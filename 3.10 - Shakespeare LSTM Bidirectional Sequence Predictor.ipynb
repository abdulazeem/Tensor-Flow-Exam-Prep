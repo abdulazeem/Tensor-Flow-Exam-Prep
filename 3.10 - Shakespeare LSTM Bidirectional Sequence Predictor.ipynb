{
  "nbformat": 4,
  "nbformat_minor": 0,
  "metadata": {
    "accelerator": "GPU",
    "colab": {
      "name": "NLP_Week4_Exercise_Shakespeare_Answer.ipynb",
      "provenance": [],
      "toc_visible": true
    },
    "kernelspec": {
      "display_name": "Python 3",
      "name": "python3"
    }
  },
  "cells": [
    {
      "cell_type": "code",
      "metadata": {
        "id": "zX4Kg8DUTKWO",
        "colab_type": "code",
        "colab": {}
      },
      "source": [
        "#@title Licensed under the Apache License, Version 2.0 (the \"License\");\n",
        "# you may not use this file except in compliance with the License.\n",
        "# You may obtain a copy of the License at\n",
        "#\n",
        "# https://www.apache.org/licenses/LICENSE-2.0\n",
        "#\n",
        "# Unless required by applicable law or agreed to in writing, software\n",
        "# distributed under the License is distributed on an \"AS IS\" BASIS,\n",
        "# WITHOUT WARRANTIES OR CONDITIONS OF ANY KIND, either express or implied.\n",
        "# See the License for the specific language governing permissions and\n",
        "# limitations under the License."
      ],
      "execution_count": 0,
      "outputs": []
    },
    {
      "cell_type": "code",
      "metadata": {
        "colab_type": "code",
        "id": "BOwsuGQQY9OL",
        "colab": {}
      },
      "source": [
        "from tensorflow.keras.preprocessing.sequence import pad_sequences\n",
        "from tensorflow.keras.layers import Embedding, LSTM, Dense, Dropout, Bidirectional\n",
        "from tensorflow.keras.preprocessing.text import Tokenizer\n",
        "from tensorflow.keras.models import Sequential\n",
        "from tensorflow.keras.optimizers import Adam\n",
        "from tensorflow.keras import regularizers\n",
        "import tensorflow.keras.utils as ku \n",
        "import numpy as np "
      ],
      "execution_count": 0,
      "outputs": []
    },
    {
      "cell_type": "code",
      "metadata": {
        "colab_type": "code",
        "id": "PRnDnCW-Z7qv",
        "colab": {
          "base_uri": "https://localhost:8080/",
          "height": 204
        },
        "outputId": "7ae3887e-6c7d-4913-91fb-6c5d9652f1c7"
      },
      "source": [
        "tokenizer = Tokenizer()\n",
        "!wget --no-check-certificate \\\n",
        "    https://storage.googleapis.com/laurencemoroney-blog.appspot.com/sonnets.txt \\\n",
        "    -O /tmp/sonnets.txt\n",
        "data = open('/tmp/sonnets.txt').read()\n",
        "\n",
        "corpus = data.lower().split(\"\\n\")\n",
        "\n",
        "\n",
        "tokenizer.fit_on_texts(corpus)\n",
        "total_words = len(tokenizer.word_index) + 1\n",
        "\n",
        "# create input sequences using list of tokens\n",
        "input_sequences = []\n",
        "for line in corpus:\n",
        "\ttoken_list = tokenizer.texts_to_sequences([line])[0]\n",
        "\tfor i in range(1, len(token_list)):\n",
        "\t\tn_gram_sequence = token_list[:i+1]\n",
        "\t\tinput_sequences.append(n_gram_sequence)\n",
        "\n",
        "\n",
        "# pad sequences \n",
        "max_sequence_len = max([len(x) for x in input_sequences])\n",
        "input_sequences = np.array(pad_sequences(input_sequences, maxlen=max_sequence_len, padding='pre'))\n",
        "\n",
        "# create predictors and label\n",
        "predictors, label = input_sequences[:,:-1],input_sequences[:,-1]\n",
        "\n",
        "label = ku.to_categorical(label, num_classes=total_words)"
      ],
      "execution_count": 3,
      "outputs": [
        {
          "output_type": "stream",
          "text": [
            "--2020-04-20 12:01:22--  https://storage.googleapis.com/laurencemoroney-blog.appspot.com/sonnets.txt\n",
            "Resolving storage.googleapis.com (storage.googleapis.com)... 74.125.204.128, 2404:6800:4008:c04::80\n",
            "Connecting to storage.googleapis.com (storage.googleapis.com)|74.125.204.128|:443... connected.\n",
            "HTTP request sent, awaiting response... 200 OK\n",
            "Length: 93578 (91K) [text/plain]\n",
            "Saving to: ‘/tmp/sonnets.txt’\n",
            "\n",
            "\r/tmp/sonnets.txt      0%[                    ]       0  --.-KB/s               \r/tmp/sonnets.txt    100%[===================>]  91.38K  --.-KB/s    in 0.005s  \n",
            "\n",
            "2020-04-20 12:01:22 (16.7 MB/s) - ‘/tmp/sonnets.txt’ saved [93578/93578]\n",
            "\n"
          ],
          "name": "stdout"
        }
      ]
    },
    {
      "cell_type": "code",
      "metadata": {
        "colab_type": "code",
        "id": "w9vH8Y59ajYL",
        "colab": {
          "base_uri": "https://localhost:8080/",
          "height": 374
        },
        "outputId": "b6e670a0-1fbe-4c95-d844-b733c56bc99a"
      },
      "source": [
        "model = Sequential()\n",
        "model.add(Embedding(total_words, 100, input_length=max_sequence_len-1))\n",
        "model.add(Bidirectional(LSTM(150, return_sequences = True)))\n",
        "model.add(Dropout(0.2))\n",
        "model.add(LSTM(100))\n",
        "model.add(Dense(total_words/2, activation='relu', kernel_regularizer=regularizers.l2(0.01)))\n",
        "model.add(Dense(total_words, activation='softmax'))\n",
        "model.compile(loss='categorical_crossentropy', optimizer='adam', metrics=['accuracy'])\n",
        "print(model.summary())\n"
      ],
      "execution_count": 4,
      "outputs": [
        {
          "output_type": "stream",
          "text": [
            "Model: \"sequential\"\n",
            "_________________________________________________________________\n",
            "Layer (type)                 Output Shape              Param #   \n",
            "=================================================================\n",
            "embedding (Embedding)        (None, 10, 100)           321100    \n",
            "_________________________________________________________________\n",
            "bidirectional (Bidirectional (None, 10, 300)           301200    \n",
            "_________________________________________________________________\n",
            "dropout (Dropout)            (None, 10, 300)           0         \n",
            "_________________________________________________________________\n",
            "lstm_1 (LSTM)                (None, 100)               160400    \n",
            "_________________________________________________________________\n",
            "dense (Dense)                (None, 1605)              162105    \n",
            "_________________________________________________________________\n",
            "dense_1 (Dense)              (None, 3211)              5156866   \n",
            "=================================================================\n",
            "Total params: 6,101,671\n",
            "Trainable params: 6,101,671\n",
            "Non-trainable params: 0\n",
            "_________________________________________________________________\n",
            "None\n"
          ],
          "name": "stdout"
        }
      ]
    },
    {
      "cell_type": "code",
      "metadata": {
        "colab_type": "code",
        "id": "AIg2f1HBxqof",
        "colab": {
          "base_uri": "https://localhost:8080/",
          "height": 1000
        },
        "outputId": "dff07788-38e8-41b4-98ab-5bd7add83ac0"
      },
      "source": [
        " history = model.fit(predictors, label, epochs=100, verbose=1)"
      ],
      "execution_count": 5,
      "outputs": [
        {
          "output_type": "stream",
          "text": [
            "Epoch 1/100\n",
            "484/484 [==============================] - 14s 28ms/step - loss: 6.8945 - accuracy: 0.0206\n",
            "Epoch 2/100\n",
            "484/484 [==============================] - 14s 28ms/step - loss: 6.4974 - accuracy: 0.0228\n",
            "Epoch 3/100\n",
            "484/484 [==============================] - 14s 28ms/step - loss: 6.3959 - accuracy: 0.0233\n",
            "Epoch 4/100\n",
            "484/484 [==============================] - 14s 28ms/step - loss: 6.2831 - accuracy: 0.0313\n",
            "Epoch 5/100\n",
            "484/484 [==============================] - 14s 28ms/step - loss: 6.1824 - accuracy: 0.0335\n",
            "Epoch 6/100\n",
            "484/484 [==============================] - 14s 28ms/step - loss: 6.1054 - accuracy: 0.0400\n",
            "Epoch 7/100\n",
            "484/484 [==============================] - 14s 28ms/step - loss: 6.0161 - accuracy: 0.0437\n",
            "Epoch 8/100\n",
            "484/484 [==============================] - 14s 28ms/step - loss: 5.9303 - accuracy: 0.0448\n",
            "Epoch 9/100\n",
            "484/484 [==============================] - 14s 28ms/step - loss: 5.8293 - accuracy: 0.0513\n",
            "Epoch 10/100\n",
            "484/484 [==============================] - 14s 28ms/step - loss: 5.7109 - accuracy: 0.0572\n",
            "Epoch 11/100\n",
            "484/484 [==============================] - 14s 28ms/step - loss: 5.6019 - accuracy: 0.0639\n",
            "Epoch 12/100\n",
            "484/484 [==============================] - 14s 28ms/step - loss: 5.4774 - accuracy: 0.0693\n",
            "Epoch 13/100\n",
            "484/484 [==============================] - 14s 28ms/step - loss: 5.3636 - accuracy: 0.0777\n",
            "Epoch 14/100\n",
            "484/484 [==============================] - 14s 28ms/step - loss: 5.2452 - accuracy: 0.0832\n",
            "Epoch 15/100\n",
            "484/484 [==============================] - 13s 28ms/step - loss: 5.1401 - accuracy: 0.0918\n",
            "Epoch 16/100\n",
            "484/484 [==============================] - 13s 28ms/step - loss: 5.0280 - accuracy: 0.0981\n",
            "Epoch 17/100\n",
            "484/484 [==============================] - 14s 28ms/step - loss: 4.9184 - accuracy: 0.1079\n",
            "Epoch 18/100\n",
            "484/484 [==============================] - 14s 28ms/step - loss: 4.8126 - accuracy: 0.1170\n",
            "Epoch 19/100\n",
            "484/484 [==============================] - 14s 28ms/step - loss: 4.7104 - accuracy: 0.1253\n",
            "Epoch 20/100\n",
            "484/484 [==============================] - 14s 28ms/step - loss: 4.6056 - accuracy: 0.1330\n",
            "Epoch 21/100\n",
            "484/484 [==============================] - 14s 28ms/step - loss: 4.4986 - accuracy: 0.1439\n",
            "Epoch 22/100\n",
            "484/484 [==============================] - 14s 28ms/step - loss: 4.3976 - accuracy: 0.1574\n",
            "Epoch 23/100\n",
            "484/484 [==============================] - 14s 28ms/step - loss: 4.2851 - accuracy: 0.1645\n",
            "Epoch 24/100\n",
            "484/484 [==============================] - 14s 28ms/step - loss: 4.1883 - accuracy: 0.1801\n",
            "Epoch 25/100\n",
            "484/484 [==============================] - 14s 28ms/step - loss: 4.0781 - accuracy: 0.1910\n",
            "Epoch 26/100\n",
            "484/484 [==============================] - 14s 28ms/step - loss: 3.9875 - accuracy: 0.2018\n",
            "Epoch 27/100\n",
            "484/484 [==============================] - 14s 28ms/step - loss: 3.8798 - accuracy: 0.2206\n",
            "Epoch 28/100\n",
            "484/484 [==============================] - 14s 28ms/step - loss: 3.7768 - accuracy: 0.2411\n",
            "Epoch 29/100\n",
            "484/484 [==============================] - 14s 28ms/step - loss: 3.6889 - accuracy: 0.2571\n",
            "Epoch 30/100\n",
            "484/484 [==============================] - 13s 28ms/step - loss: 3.5959 - accuracy: 0.2786\n",
            "Epoch 31/100\n",
            "484/484 [==============================] - 14s 28ms/step - loss: 3.5008 - accuracy: 0.2956\n",
            "Epoch 32/100\n",
            "484/484 [==============================] - 14s 28ms/step - loss: 3.4087 - accuracy: 0.3148\n",
            "Epoch 33/100\n",
            "484/484 [==============================] - 13s 28ms/step - loss: 3.3263 - accuracy: 0.3358\n",
            "Epoch 34/100\n",
            "484/484 [==============================] - 14s 28ms/step - loss: 3.2370 - accuracy: 0.3556\n",
            "Epoch 35/100\n",
            "484/484 [==============================] - 14s 28ms/step - loss: 3.1655 - accuracy: 0.3694\n",
            "Epoch 36/100\n",
            "484/484 [==============================] - 14s 28ms/step - loss: 3.0733 - accuracy: 0.3946\n",
            "Epoch 37/100\n",
            "484/484 [==============================] - 14s 28ms/step - loss: 3.0020 - accuracy: 0.4115\n",
            "Epoch 38/100\n",
            "484/484 [==============================] - 13s 28ms/step - loss: 2.9307 - accuracy: 0.4217\n",
            "Epoch 39/100\n",
            "484/484 [==============================] - 14s 28ms/step - loss: 2.8694 - accuracy: 0.4382\n",
            "Epoch 40/100\n",
            "484/484 [==============================] - 14s 28ms/step - loss: 2.7978 - accuracy: 0.4574\n",
            "Epoch 41/100\n",
            "484/484 [==============================] - 14s 28ms/step - loss: 2.7215 - accuracy: 0.4734\n",
            "Epoch 42/100\n",
            "484/484 [==============================] - 14s 28ms/step - loss: 2.6557 - accuracy: 0.4882\n",
            "Epoch 43/100\n",
            "484/484 [==============================] - 14s 28ms/step - loss: 2.6082 - accuracy: 0.4975\n",
            "Epoch 44/100\n",
            "484/484 [==============================] - 14s 28ms/step - loss: 2.5431 - accuracy: 0.5146\n",
            "Epoch 45/100\n",
            "484/484 [==============================] - 14s 28ms/step - loss: 2.4736 - accuracy: 0.5321\n",
            "Epoch 46/100\n",
            "484/484 [==============================] - 14s 28ms/step - loss: 2.4385 - accuracy: 0.5365\n",
            "Epoch 47/100\n",
            "484/484 [==============================] - 14s 28ms/step - loss: 2.3764 - accuracy: 0.5526\n",
            "Epoch 48/100\n",
            "484/484 [==============================] - 14s 28ms/step - loss: 2.3269 - accuracy: 0.5620\n",
            "Epoch 49/100\n",
            "484/484 [==============================] - 14s 28ms/step - loss: 2.2724 - accuracy: 0.5731\n",
            "Epoch 50/100\n",
            "484/484 [==============================] - 14s 28ms/step - loss: 2.2230 - accuracy: 0.5881\n",
            "Epoch 51/100\n",
            "484/484 [==============================] - 14s 28ms/step - loss: 2.1823 - accuracy: 0.5986\n",
            "Epoch 52/100\n",
            "484/484 [==============================] - 14s 28ms/step - loss: 2.1273 - accuracy: 0.6088\n",
            "Epoch 53/100\n",
            "484/484 [==============================] - 14s 28ms/step - loss: 2.0910 - accuracy: 0.6178\n",
            "Epoch 54/100\n",
            "484/484 [==============================] - 14s 28ms/step - loss: 2.0539 - accuracy: 0.6231\n",
            "Epoch 55/100\n",
            "484/484 [==============================] - 14s 28ms/step - loss: 2.0034 - accuracy: 0.6383\n",
            "Epoch 56/100\n",
            "484/484 [==============================] - 14s 28ms/step - loss: 1.9688 - accuracy: 0.6455\n",
            "Epoch 57/100\n",
            "484/484 [==============================] - 14s 28ms/step - loss: 1.9272 - accuracy: 0.6527\n",
            "Epoch 58/100\n",
            "484/484 [==============================] - 14s 28ms/step - loss: 1.8827 - accuracy: 0.6672\n",
            "Epoch 59/100\n",
            "484/484 [==============================] - 14s 28ms/step - loss: 1.8567 - accuracy: 0.6717\n",
            "Epoch 60/100\n",
            "484/484 [==============================] - 14s 28ms/step - loss: 1.8343 - accuracy: 0.6728\n",
            "Epoch 61/100\n",
            "484/484 [==============================] - 14s 28ms/step - loss: 1.7942 - accuracy: 0.6859\n",
            "Epoch 62/100\n",
            "484/484 [==============================] - 14s 28ms/step - loss: 1.7634 - accuracy: 0.6903\n",
            "Epoch 63/100\n",
            "484/484 [==============================] - 14s 28ms/step - loss: 1.7326 - accuracy: 0.6970\n",
            "Epoch 64/100\n",
            "484/484 [==============================] - 14s 28ms/step - loss: 1.7158 - accuracy: 0.6980\n",
            "Epoch 65/100\n",
            "484/484 [==============================] - 14s 28ms/step - loss: 1.6912 - accuracy: 0.7052\n",
            "Epoch 66/100\n",
            "484/484 [==============================] - 14s 28ms/step - loss: 1.6453 - accuracy: 0.7144\n",
            "Epoch 67/100\n",
            "484/484 [==============================] - 14s 28ms/step - loss: 1.6107 - accuracy: 0.7225\n",
            "Epoch 68/100\n",
            "484/484 [==============================] - 14s 28ms/step - loss: 1.5857 - accuracy: 0.7255\n",
            "Epoch 69/100\n",
            "484/484 [==============================] - 14s 28ms/step - loss: 1.5636 - accuracy: 0.7322\n",
            "Epoch 70/100\n",
            "484/484 [==============================] - 14s 28ms/step - loss: 1.5678 - accuracy: 0.7254\n",
            "Epoch 71/100\n",
            "484/484 [==============================] - 14s 28ms/step - loss: 1.5282 - accuracy: 0.7372\n",
            "Epoch 72/100\n",
            "484/484 [==============================] - 14s 28ms/step - loss: 1.5048 - accuracy: 0.7412\n",
            "Epoch 73/100\n",
            "484/484 [==============================] - 14s 28ms/step - loss: 1.4734 - accuracy: 0.7515\n",
            "Epoch 74/100\n",
            "484/484 [==============================] - 14s 28ms/step - loss: 1.4563 - accuracy: 0.7515\n",
            "Epoch 75/100\n",
            "484/484 [==============================] - 14s 28ms/step - loss: 1.4443 - accuracy: 0.7511\n",
            "Epoch 76/100\n",
            "484/484 [==============================] - 14s 28ms/step - loss: 1.4230 - accuracy: 0.7579\n",
            "Epoch 77/100\n",
            "484/484 [==============================] - 14s 28ms/step - loss: 1.4043 - accuracy: 0.7593\n",
            "Epoch 78/100\n",
            "484/484 [==============================] - 14s 28ms/step - loss: 1.3882 - accuracy: 0.7646\n",
            "Epoch 79/100\n",
            "484/484 [==============================] - 14s 28ms/step - loss: 1.3691 - accuracy: 0.7679\n",
            "Epoch 80/100\n",
            "484/484 [==============================] - 14s 28ms/step - loss: 1.3580 - accuracy: 0.7703\n",
            "Epoch 81/100\n",
            "484/484 [==============================] - 14s 28ms/step - loss: 1.3380 - accuracy: 0.7724\n",
            "Epoch 82/100\n",
            "484/484 [==============================] - 14s 28ms/step - loss: 1.3212 - accuracy: 0.7745\n",
            "Epoch 83/100\n",
            "484/484 [==============================] - 13s 28ms/step - loss: 1.3035 - accuracy: 0.7796\n",
            "Epoch 84/100\n",
            "484/484 [==============================] - 13s 28ms/step - loss: 1.2950 - accuracy: 0.7779\n",
            "Epoch 85/100\n",
            "484/484 [==============================] - 13s 28ms/step - loss: 1.2806 - accuracy: 0.7790\n",
            "Epoch 86/100\n",
            "484/484 [==============================] - 13s 28ms/step - loss: 1.2662 - accuracy: 0.7839\n",
            "Epoch 87/100\n",
            "484/484 [==============================] - 13s 28ms/step - loss: 1.2568 - accuracy: 0.7844\n",
            "Epoch 88/100\n",
            "484/484 [==============================] - 14s 28ms/step - loss: 1.2345 - accuracy: 0.7886\n",
            "Epoch 89/100\n",
            "484/484 [==============================] - 14s 28ms/step - loss: 1.2237 - accuracy: 0.7905\n",
            "Epoch 90/100\n",
            "484/484 [==============================] - 14s 28ms/step - loss: 1.2099 - accuracy: 0.7954\n",
            "Epoch 91/100\n",
            "484/484 [==============================] - 14s 28ms/step - loss: 1.2099 - accuracy: 0.7965\n",
            "Epoch 92/100\n",
            "484/484 [==============================] - 14s 28ms/step - loss: 1.1895 - accuracy: 0.7971\n",
            "Epoch 93/100\n",
            "484/484 [==============================] - 14s 28ms/step - loss: 1.1794 - accuracy: 0.7966\n",
            "Epoch 94/100\n",
            "484/484 [==============================] - 14s 28ms/step - loss: 1.1800 - accuracy: 0.7936\n",
            "Epoch 95/100\n",
            "484/484 [==============================] - 14s 28ms/step - loss: 1.1547 - accuracy: 0.8003\n",
            "Epoch 96/100\n",
            "484/484 [==============================] - 14s 28ms/step - loss: 1.1500 - accuracy: 0.8028\n",
            "Epoch 97/100\n",
            "484/484 [==============================] - 14s 28ms/step - loss: 1.1553 - accuracy: 0.7989\n",
            "Epoch 98/100\n",
            "484/484 [==============================] - 14s 28ms/step - loss: 1.1226 - accuracy: 0.8079\n",
            "Epoch 99/100\n",
            "484/484 [==============================] - 14s 28ms/step - loss: 1.1206 - accuracy: 0.8073\n",
            "Epoch 100/100\n",
            "484/484 [==============================] - 14s 28ms/step - loss: 1.1064 - accuracy: 0.8110\n"
          ],
          "name": "stdout"
        }
      ]
    },
    {
      "cell_type": "code",
      "metadata": {
        "colab_type": "code",
        "id": "1fXTEO3GJ282",
        "colab": {
          "base_uri": "https://localhost:8080/",
          "height": 545
        },
        "outputId": "6150d3fe-b3bd-4a25-cd49-c28a001e4296"
      },
      "source": [
        "import matplotlib.pyplot as plt\n",
        "acc = history.history['accuracy']\n",
        "loss = history.history['loss']\n",
        "\n",
        "epochs = range(len(acc))\n",
        "\n",
        "plt.plot(epochs, acc, 'b', label='Training accuracy')\n",
        "plt.title('Training accuracy')\n",
        "\n",
        "plt.figure()\n",
        "\n",
        "plt.plot(epochs, loss, 'b', label='Training Loss')\n",
        "plt.title('Training loss')\n",
        "plt.legend()\n",
        "\n",
        "plt.show()"
      ],
      "execution_count": 6,
      "outputs": [
        {
          "output_type": "display_data",
          "data": {
            "image/png": "[encoded data removed]",
            "text/plain": [
              "<Figure size 432x288 with 1 Axes>"
            ]
          },
          "metadata": {
            "tags": [],
            "needs_background": "light"
          }
        },
        {
          "output_type": "display_data",
          "data": {
            "image/png": "[encoded data removed]",
            "text/plain": [
              "<Figure size 432x288 with 1 Axes>"
            ]
          },
          "metadata": {
            "tags": [],
            "needs_background": "light"
          }
        }
      ]
    },
    {
      "cell_type": "code",
      "metadata": {
        "colab_type": "code",
        "id": "6Vc6PHgxa6Hm",
        "colab": {
          "base_uri": "https://localhost:8080/",
          "height": 105
        },
        "outputId": "05b06129-dbc4-43d0-84bf-ae738396387e"
      },
      "source": [
        "seed_text = \"Help me Obi Wan Kenobi, you're my only hope\"\n",
        "next_words = 100\n",
        "  \n",
        "for _ in range(next_words):\n",
        "\ttoken_list = tokenizer.texts_to_sequences([seed_text])[0]\n",
        "\ttoken_list = pad_sequences([token_list], maxlen=max_sequence_len-1, padding='pre')\n",
        "\tpredicted = model.predict_classes(token_list, verbose=0)\n",
        "\toutput_word = \"\"\n",
        "\tfor word, index in tokenizer.word_index.items():\n",
        "\t\tif index == predicted:\n",
        "\t\t\toutput_word = word\n",
        "\t\t\tbreak\n",
        "\tseed_text += \" \" + output_word\n",
        "print(seed_text)"
      ],
      "execution_count": 7,
      "outputs": [
        {
          "output_type": "stream",
          "text": [
            "WARNING:tensorflow:From <ipython-input-7-622d307fa19a>:7: Sequential.predict_classes (from tensorflow.python.keras.engine.sequential) is deprecated and will be removed after 2021-01-01.\n",
            "Instructions for updating:\n",
            "Please use instead:* `np.argmax(model.predict(x), axis=-1)`,   if your model does multi-class classification   (e.g. if it uses a `softmax` last-layer activation).* `(model.predict(x) > 0.5).astype(\"int32\")`,   if your model does binary classification   (e.g. if it uses a `sigmoid` last-layer activation).\n",
            "Help me Obi Wan Kenobi, you're my only hope so grace me woe young me ' still but but every hate each praise hate ' and grew to 'will' from happy still still quite tend miss'd spend show good friend deeds in men wrong prove days increase ride rehearse spend nought heaven prove me up foes commend dwells decease near cross twain twain prove me forth them me there lies look but you kill thee thee me so twain strange rare prove me foes truth prove men commend commend hate new tell love's but tell her art so grace a ear go young days much forth days seen too\n"
          ],
          "name": "stdout"
        }
      ]
    }
  ]
}